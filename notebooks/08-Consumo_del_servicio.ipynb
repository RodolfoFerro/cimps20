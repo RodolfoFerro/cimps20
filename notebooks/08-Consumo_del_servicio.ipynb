{
  "nbformat": 4,
  "nbformat_minor": 0,
  "metadata": {
    "colab": {
      "name": "Consumo del servicio",
      "provenance": [],
      "collapsed_sections": [],
      "toc_visible": true,
      "include_colab_link": true
    },
    "kernelspec": {
      "name": "python3",
      "display_name": "Python 3"
    },
    "accelerator": "GPU"
  },
  "cells": [
    {
      "cell_type": "markdown",
      "metadata": {
        "id": "view-in-github",
        "colab_type": "text"
      },
      "source": [
        "<a href=\"https://colab.research.google.com/github/RodolfoFerro/cimps20/blob/main/notebooks/08-Consumo_del_servicio.ipynb\" target=\"_parent\"><img src=\"https://colab.research.google.com/assets/colab-badge.svg\" alt=\"Open In Colab\"/></a>"
      ]
    },
    {
      "cell_type": "markdown",
      "metadata": {
        "id": "R6jO_1gISKxk"
      },
      "source": [
        "# Consumo del servicio\n",
        "\n",
        "> **Rodolfo Ferro** <br>\n",
        "> Google Dev Expert en ML, 2020.\n",
        ">\n",
        "> _Redes:_\n",
        "> - GitHub - [RodolfoFerro](https://github.com/RodolfoFerro)\n",
        "> - Twitter - [@FerroRodolfo](https://twitter.com/FerroRodolfo)\n",
        "> - Instagram - [@rodo_ferro](https://instagram.com/rodo_ferro)\n",
        "\n",
        "## Contenidos\n",
        "\n",
        "#### **Sección IX**\n",
        "1. **Código:** Consumo de nuestro servicio inteligente\n"
      ]
    },
    {
      "cell_type": "markdown",
      "metadata": {
        "id": "xNVG2PnSEtQN"
      },
      "source": [
        "## **Sección IX**"
      ]
    },
    {
      "cell_type": "markdown",
      "metadata": {
        "id": "1Z7JrTygMDSx"
      },
      "source": [
        "### Consumo de nuestro servicio inteligente\n",
        "\n",
        "\n",
        "Codifiquemos una imagen, será la que enviaremos al servicio."
      ]
    },
    {
      "cell_type": "code",
      "metadata": {
        "id": "8qHMypMs-m1A"
      },
      "source": [
        "import base64\n",
        "\n",
        "\n",
        "image_name = \"\"\n",
        "\n",
        "image = open(image_name, \"rb\")\n",
        "image_read = image.read()\n",
        "\n",
        "image_64_encode = base64.encodebytes(image_read)\n",
        "\n",
        "print(image_64_encode)"
      ],
      "execution_count": null,
      "outputs": []
    },
    {
      "cell_type": "markdown",
      "metadata": {
        "id": "itU2cwxCDG-4"
      },
      "source": [
        "Veamos cómo se ve la cadena codificada."
      ]
    },
    {
      "cell_type": "code",
      "metadata": {
        "id": "ArrCRzhB_myE"
      },
      "source": [
        "str(image_64_encode)"
      ],
      "execution_count": null,
      "outputs": []
    },
    {
      "cell_type": "markdown",
      "metadata": {
        "id": "_po9HdWXDJgQ"
      },
      "source": [
        "Especificamos la codificación y las cabeceras para la petición."
      ]
    },
    {
      "cell_type": "code",
      "metadata": {
        "id": "T_jrQP9J7y4p"
      },
      "source": [
        "import requests\n",
        "\n",
        "\n",
        "headers = {\n",
        "    'Content-type': 'application/json'\n",
        "}\n",
        "\n",
        "json = {\n",
        "    \"base64\": image_64_encode.decode(\"utf-8\") \n",
        "}\n"
      ],
      "execution_count": null,
      "outputs": []
    },
    {
      "cell_type": "markdown",
      "metadata": {
        "id": "HTJTCccGDOJP"
      },
      "source": [
        "Consumimos el servicio."
      ]
    },
    {
      "cell_type": "code",
      "metadata": {
        "id": "hrTgeuxE_DrV"
      },
      "source": [
        "url = \"[BASE]/predict\"\n",
        "\n",
        "r = requests.post(url, headers=headers, json=json)"
      ],
      "execution_count": null,
      "outputs": []
    },
    {
      "cell_type": "markdown",
      "metadata": {
        "id": "_Kmf21YoDTaI"
      },
      "source": [
        "Evaluamos la respuesta."
      ]
    },
    {
      "cell_type": "code",
      "metadata": {
        "id": "tf-xVzBN_ILZ"
      },
      "source": [
        "r.json()"
      ],
      "execution_count": null,
      "outputs": []
    }
  ]
}