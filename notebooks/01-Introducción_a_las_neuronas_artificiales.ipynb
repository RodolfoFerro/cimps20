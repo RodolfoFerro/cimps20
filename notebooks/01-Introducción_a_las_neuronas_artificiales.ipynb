{
  "nbformat": 4,
  "nbformat_minor": 0,
  "metadata": {
    "colab": {
      "name": "Introducción a las neuronas artificiales",
      "provenance": [],
      "collapsed_sections": [],
      "toc_visible": true,
      "include_colab_link": true
    },
    "kernelspec": {
      "name": "python3",
      "display_name": "Python 3"
    },
    "accelerator": "GPU"
  },
  "cells": [
    {
      "cell_type": "markdown",
      "metadata": {
        "id": "view-in-github",
        "colab_type": "text"
      },
      "source": [
        "<a href=\"https://colab.research.google.com/github/RodolfoFerro/cimps20/blob/main/notebooks/01-Introducci%C3%B3n_a_las_neuronas_artificiales.ipynb\" target=\"_parent\"><img src=\"https://colab.research.google.com/assets/colab-badge.svg\" alt=\"Open In Colab\"/></a>"
      ]
    },
    {
      "cell_type": "markdown",
      "metadata": {
        "id": "R6jO_1gISKxk"
      },
      "source": [
        "# Introducción a las neuronas artificiales\n",
        "\n",
        "> **Rodolfo Ferro** <br>\n",
        "> Google Dev Expert en ML, 2020.\n",
        ">\n",
        "> _Redes:_\n",
        "> - GitHub - [RodolfoFerro](https://github.com/RodolfoFerro)\n",
        "> - Twitter - [@FerroRodolfo](https://twitter.com/FerroRodolfo)\n",
        "> - Instagram - [@rodo_ferro](https://instagram.com/rodo_ferro)\n",
        "\n",
        "## Contenidos\n",
        "\n",
        "#### **Sección I**\n",
        "1. **Bases:** Brief histórico\n",
        "2. **Bases:** Un perceptrón\n",
        "3. **Código:** Un perceptrón\n",
        "4. **Bases:** Activación y bias\n",
        "\n",
        "#### **Sección II**\n",
        "\n",
        "5. **Bases:** Una red de neuronas\n",
        "6. **Código:** Una red de neuronas\n",
        "7. **Código:** Profundidad\n",
        "8. **Código:** Visualización\n",
        "\n",
        "\n",
        "9. **Cierre:** Sesión de preguntas y respuestas"
      ]
    },
    {
      "cell_type": "markdown",
      "metadata": {
        "id": "xNVG2PnSEtQN"
      },
      "source": [
        "## **Sección I**"
      ]
    },
    {
      "cell_type": "markdown",
      "metadata": {
        "id": "tPk1Rkc4FZ5g"
      },
      "source": [
        "### **Historia de las redes neuronales**\n",
        "\n",
        "La historia de las redes neuronales se remontan a un tipo de neurona artificial, llamada **perceptrón**. Estos fueron desarrollados entre 1950 y 1960 por el científico **Frank Rosenblatt**."
      ]
    },
    {
      "cell_type": "markdown",
      "metadata": {
        "id": "uehq48zoSocy"
      },
      "source": [
        "\n",
        "\n",
        "### **Entonces, ¿qué es un perceptrón?**\n",
        "\n",
        "Un perceptrón es una abstracción de una neurona real.\n",
        "\n",
        "Éste toma varias **entradas** $x_1, x_2,..., x_n $ y produce una **salida**. Para la salida, Rosenblatt propuso que las entradas tuviesen **pesos** asciados $w_1, w_2, ..., w_n$, siendo estos números reales que expresan la importancia respectiva de cada entrada para la salida. La salida de la neurona, $0$ o $1$, está determinada con base en que la suma ponderada, \n",
        "\n",
        "$$\\displaystyle\\sum_{j}w_jx_j,$$\n",
        "\n",
        "<!-- $\\textbf{w}_{Layer}\\cdot\\textbf{x} = \n",
        "\\begin{bmatrix}\n",
        "w_{1, 1} & w_{1, 2} & \\cdots & w_{1, n}\\\\\n",
        "w_{2, 1} & w_{2, 2} & \\cdots & w_{2, n}\\\\\n",
        "\\vdots & \\vdots & \\ddots & \\vdots\\\\\n",
        "w_{m, 1} & w_{m, 2} & \\cdots & w_{m, n}\\\\\n",
        "\\end{bmatrix} \\cdot\n",
        "\\begin{bmatrix}\n",
        "x_1\\\\\n",
        "x_2\\\\\n",
        "\\vdots\\\\\n",
        "x_n\n",
        "\\end{bmatrix}$ -->\n",
        "\n",
        "(para $j \\in \\{1, 2, ..., n\\}$ ) sea menor o mayor que un **valor límite** que por ahora llamaremos umbral.\n",
        "\n",
        "Resumiendo, un perceptron es un sistema que toma decisiones con base en la evidencia presentada."
      ]
    },
    {
      "cell_type": "markdown",
      "metadata": {
        "id": "q33kCpXyFgJ_"
      },
      "source": [
        "#### **Hagamos un ejemplo**"
      ]
    },
    {
      "cell_type": "code",
      "metadata": {
        "id": "cLBMuek3lBHd"
      },
      "source": [
        "import numpy as np\n",
        "\n",
        "\n",
        "# Primero creamos nuestra clase perceptron\n",
        "class Perceptron():\n",
        "    def __init__(self, inputs, weights):\n",
        "        # TODO\n",
        "        self.inputs = None\n",
        "        self.weights = None\n",
        "  \n",
        "    def decide(self, treshold):\n",
        "        return None"
      ],
      "execution_count": null,
      "outputs": []
    },
    {
      "cell_type": "code",
      "metadata": {
        "id": "t42O74IdmKIw"
      },
      "source": [
        "# Ahora necesitamos darle sus entradas y pesos asociados\n",
        "inputs, weights = [], []\n",
        "\n",
        "preguntas = [\n",
        "    \"· ¿Cuál es la velocidad? \",\n",
        "    \"· ¿Ritmo cardiaco? \",\n",
        "    \"· ¿Respiración? \"\n",
        "]\n",
        "\n",
        "for pregunta in preguntas:\n",
        "    i = int(input(pregunta))\n",
        "    w = int(input(\"· Y su peso asociado es... \"))\n",
        "    inputs.append(i)\n",
        "    weights.append(w)\n",
        "    print()\n",
        "\n",
        "treshold = int(input(\"· Y nuestro umbral/límite será: \"))"
      ],
      "execution_count": null,
      "outputs": []
    },
    {
      "cell_type": "code",
      "metadata": {
        "id": "ZHjy-k33oNFm"
      },
      "source": [
        "p = None # TODO Instantiate Perceptron\n",
        " # TODO Apply decision function with threshold"
      ],
      "execution_count": null,
      "outputs": []
    },
    {
      "cell_type": "markdown",
      "metadata": {
        "id": "gUCCwUG6DgCX"
      },
      "source": [
        "### **Bias y funciones de activación**\n",
        "\n",
        "_Antes de seguir, introduciremos otro concepto, que es el **bias**._\n",
        "\n",
        "La operación matemática que realiza la neurona se puede escribir como:\n",
        "\n",
        "$$ f(\\textbf{x}) = \n",
        "  \\begin{cases}\n",
        "    0 & \\text{si $\\displaystyle\\sum_{j}w_jx_j <$ valor límite o treshold} \\\\\n",
        "    1 & \\text{si $\\displaystyle\\sum_{j}w_jx_j \\geq$ valor límite o treshold} \\\\\n",
        "  \\end{cases},$$\n",
        "\n",
        "donde $\\textbf{x} = (x_1, x_2, ..., x_n)$ y $j \\in \\{1, 2, ..., n\\}$.\n",
        "\n",
        "De lo anterior, podemos despejar el valor límite (el umbral) y escribirlo como $b$, obteniendo:\n",
        "\n",
        "$$ f(\\textbf{x}) = \n",
        "  \\begin{cases}\n",
        "    0 & \\text{si $\\displaystyle\\sum_{j}w_jx_j + b < 0$} \\\\\n",
        "    1 & \\text{si $\\displaystyle\\sum_{j}w_jx_j + b > 0$} \\\\\n",
        "  \\end{cases},$$\n",
        "\n",
        "donde $\\textbf{x} = (x_1, x_2, ..., x_n)$ y $j \\in \\{1, 2, ..., n\\}$.\n",
        "\n",
        "Esto que escribimos como $b$, también se le conoce como **bias**, y describe *qué tan susceptible la red es a __dispararse__*.\n",
        "\n",
        "Curiosamente, esta descripción matemática encaja con la función de salto, que es una función de activación. Esto es, una función que permite el paso de información de acuerdo a la entrada y los pesos, permitiendo el disparo del lo procesado hacia la salida. La función de salto se ve como sigue:\n",
        "\n",
        "<center>\n",
        "    <img src=\"https://upload.wikimedia.org/wikipedia/commons/4/4a/Funci%C3%B3n_Cu_H.svg\" width=\"40%\" alt=\"Función escalón de Heaviside\">\n",
        "</center>\n",
        "\n",
        "Sin embargo, podemos hacer a una neurona aún más susceptible con respecto a los datos de la misma (entradas, pesos, bias) añadiendo una función sigmoide. La función sigmoide se ve como a continuación: \n",
        "\n",
        "<center>\n",
        "    <img src=\"https://upload.wikimedia.org/wikipedia/commons/6/66/Funci%C3%B3n_sigmoide_01.svg\" width=\"40%\" alt=\"Función sigmoide\">\n",
        "</center>\n",
        "\n",
        "Esta función es suave, y por lo tanto tiene una diferente \"sensibililad\" a los cambios abruptos de valores. También, sus entradas en lugar de solo ser $1$'s o $0$'s, pueden ser valores en todos los números reales. La función sigmoide es descrita por la siguiente expresión matemática:\n",
        "\n",
        "$$f(z) = \\dfrac{1}{1+e^{-z}}$$\n",
        "\n",
        "O escrito en términos de pesos y biases:\n",
        "\n",
        "$$f(z) = \\dfrac{1}{1+\\exp{\\left\\{-\\left(\\displaystyle\\sum_{j}w_jx_j +b\\right)\\right\\}}}$$"
      ]
    },
    {
      "cell_type": "markdown",
      "metadata": {
        "id": "0G1MY4HQFsEd"
      },
      "source": [
        "#### **Volviendo al ejemplo**"
      ]
    },
    {
      "cell_type": "code",
      "metadata": {
        "id": "qSn8VaEoDtHo"
      },
      "source": [
        "# Modificamos para añadir la función de activación\n",
        "class SigmoidNeuron():\n",
        "    def __init__(self, inputs, weights):\n",
        "        self.inputs = np.array(inputs)\n",
        "        self.weights = np.array(weights)\n",
        "  \n",
        "    def decide(self, bias):\n",
        "        z = (self.weights @ self.inputs) + bias\n",
        "        return 1. / (1. + np.exp(-z))"
      ],
      "execution_count": null,
      "outputs": []
    },
    {
      "cell_type": "code",
      "metadata": {
        "id": "ogPy6NpfERfJ"
      },
      "source": [
        "bias = int(input(\"· El nuevo bias será: \"))\n",
        "s = None # TODO Instantiate SigmoidNeuron\n",
        "s.decide(bias)"
      ],
      "execution_count": null,
      "outputs": []
    },
    {
      "cell_type": "markdown",
      "metadata": {
        "id": "mRGlbVZsFxdk"
      },
      "source": [
        "> Esta es la neurona que usaremos para los siguientes tópicos."
      ]
    },
    {
      "cell_type": "markdown",
      "metadata": {
        "id": "NvmIk2G9EgOQ"
      },
      "source": [
        "<center>\n",
        "    *********\n",
        "</center>"
      ]
    },
    {
      "cell_type": "markdown",
      "metadata": {
        "id": "YnY-np7LE3lS"
      },
      "source": [
        "## **Sección II**"
      ]
    },
    {
      "cell_type": "markdown",
      "metadata": {
        "id": "0Km7Ow80drf2"
      },
      "source": [
        "### **Redes de neuronas artificiales**\n",
        "\n",
        "Imaginemos que en lugar de una única neurona, tenemos 7 neuronas, todas con diferentes pesos (que inicialmente definiremos de manera aleatoria), dispuestas con la siguiente configuración: \n",
        "- Tenemos dos neuronas que representarán la información de entrada\n",
        "- Cada una de las dos neuronas está conectada con cuatro siguientes neuronas dispuestas en una siguiente capa\n",
        "- Finalmente, cada salida de las cuatro neuronas previas es conectada a una única neurona dispuesta en una capa de salida\n",
        "\n",
        "La configuración quedaría como se muestra a continuación:\n",
        "\n",
        "<center>\n",
        "    <img src=\"https://www.pngitem.com/pimgs/m/531-5314899_artificial-neural-network-png-transparent-png.png\" width=\"30%\" alt=\"A simple neural network\">\n",
        "</center>\n",
        "\n",
        "La previa configuración de neuronas dispuesta en forma de red podría tomar decisiones más complejas y abstractas, si consideramos la operación definida anteriormente (pesos, bias, función de activación) sobre los pesos de cada conexión de neuronas entre las capas.\n",
        "\n",
        "Esto, a grandes rasgos, es una manera de abstraer una red neuronal artifical, compuesta por neuronas como previamente hemos definido; y donde se tienen capas de neuronas cuyas salidas funcionan como las entradas de otras neuronas (en las siguientes capas).\n",
        "\n",
        "Con esto en mente, podemos programar una red neuronal artificial con la configuración predefinida."
      ]
    },
    {
      "cell_type": "code",
      "metadata": {
        "id": "IB5BVMaXNmCF"
      },
      "source": [
        "import numpy as np\n",
        "from numpy.random import uniform as u\n",
        "\n",
        "\n",
        "class NeuralNet:\n",
        "    \"\"\"Objeto NeuralNet para crear redes neuronales artificiales.\n",
        "\n",
        "\n",
        "    Por simplicidad, supondremos que la capa de entrada siempre será de\n",
        "    dos neuronas y la capa de salida siempre de una, con el fin de poder\n",
        "    visualizar el funcionamiento interno de la red como un mapeo\n",
        "    $\\mathbb{R}^2 \\to \\mathbb{R}$.\"\"\"\n",
        "\n",
        "    def __init__(self, n_layers=1, n_neurons=4):\n",
        "        \"\"\"Constructor de la clase.\n",
        "        \n",
        "        Inicializa pesos aleatorios en la red neuronal.\n",
        "        \n",
        "        Parámetros\n",
        "        ----------\n",
        "        n_capas : int\n",
        "            Número de capas ocultas en la red. Por default, el valor\n",
        "            es 1.\n",
        "        n_neuronas : int\n",
        "            Número de neuronas por capa en la red. Por default, el\n",
        "            valor es 4.\n",
        "        \"\"\"\n",
        "\n",
        "        # Definimos pesos y biases en la capa de entrada\n",
        "        self.w_in = None # TODO u [-1, 1]/[low, high] (2, n_neurons)/size\n",
        "        self.b_in = None # TODO u [-1, 1] n_neurons\n",
        "\n",
        "        # Definimos pesos y biases en las capas ocultas\n",
        "        self.w_hidden = None # TODO u [-3, 3] (n_layers, n_neurons, n_neurons)\n",
        "        self.b_hidden = # TODO u [-1, 1] (n_layers, n_neurons)\n",
        "\n",
        "        # Definimos pesos y biases en las capa de salida\n",
        "        self.w_out = None # TODO u [-1, 1] (n_neurons, 1)\n",
        "        self.b_out = None # TODO u [-1, 1] 1\n",
        "\n",
        "    @staticmethod\n",
        "    def activate_layer(y_in, w, b):\n",
        "        \"\"\"Calcula el producto interno y aplica función de activación\n",
        "        por capa.\n",
        "        \n",
        "        Parámetros\n",
        "        ----------\n",
        "        y_in : ndarray\n",
        "            El vector con datos de entrada.\n",
        "        w : ndarray\n",
        "            El vector de pesos.\n",
        "        b : ndarray\n",
        "            El vector de biases.\n",
        "        \n",
        "        Retorna\n",
        "        -------\n",
        "        s : ndarray\n",
        "            Un vector de activación reultante.\n",
        "        \"\"\"\n",
        "\n",
        "        z = None # TODO y_in · w + b\n",
        "        s = None # TODO apply sigmoid\n",
        "        \n",
        "        return s\n",
        "\n",
        "    def feedforward(self, y_in):\n",
        "        \"\"\"Calcula el producto interno y aplica función de activación\n",
        "        por capa.\n",
        "        \n",
        "        Parámetros\n",
        "        ----------\n",
        "        y_in : ndarray\n",
        "            El vector con datos de entrada.\n",
        "        w : ndarray\n",
        "            El vector de pesos.\n",
        "        b : ndarray\n",
        "            El vector de biases.\n",
        "        \n",
        "        Retorna\n",
        "        -------\n",
        "        s : ndarray\n",
        "            Un vector de activación reultante.\"\"\"\n",
        "\n",
        "        y = None # TODO Apply activate -> (y_in, self.w_in, self.b_in)\n",
        "        for i in range(self.w_hidden.shape[0]):  # Número de capas ocultas\n",
        "            y = None # TODO Apply activate -> (y, self.w_hidden[i], self.b_hidden[i])\n",
        "        output = None # TODO Apply activate -> (y, self.w_out, self.b_out)\n",
        "        \n",
        "        return output\n",
        "    \n",
        "    def visualize(self, grid_size=50, colormap='viridis', c_reverse=False):\n",
        "        \"\"\"Función para visualizar el mapeo de la red neuronal en un \n",
        "        plano 2D.\n",
        "        \n",
        "        Parámetros\n",
        "        ----------\n",
        "        grid_size : int\n",
        "            El tamaño a utlizar para crear rejilla. La rejilla se crea de \n",
        "            tamaño (grid_size, grid_size). El valor default es 50.\n",
        "        colormap : str\n",
        "            El mapa de color a utilizar. El valor default es 'viridis'.\n",
        "        c_reverse : bool\n",
        "            Flag para especificar si se invierte el mapa de color. El valor\n",
        "            default es False.\n",
        "        \"\"\"\n",
        "\n",
        "        import matplotlib.pyplot as plt\n",
        "        import matplotlib as mpl\n",
        "        mpl.rcParams['figure.dpi'] = 300\n",
        "\n",
        "        # Creamos una rejilla\n",
        "        x = np.linspace(-0.5, 0.5, grid_size)\n",
        "        y = np.linspace(-0.5, 0.5, grid_size)\n",
        "        xx, yy = np.meshgrid(x, y)\n",
        "\n",
        "        # Para todas las coordenadas (x, y) en la rejilla,\n",
        "        # hacemos una única lista con los pares de puntos\n",
        "        x_flat = xx.flatten()\n",
        "        y_flat = yy.flatten()\n",
        "        y_in = zip(x_flat, y_flat)\n",
        "        y_in = np.array(list(y_in))\n",
        "\n",
        "        # Hacemos feedforward con la red\n",
        "        y_out = # TODO Apply feedforward on y_in\n",
        "        \n",
        "        # Redimensionamos a la rejilla\n",
        "        y_out_2d = np.reshape(y_out, (grid_size, grid_size))\n",
        "\n",
        "        if c_reverse:\n",
        "            cmap = plt.cm.get_cmap(colormap)\n",
        "            cmap = cmap.reversed()\n",
        "        else:\n",
        "            cmap = colormap\n",
        "        \n",
        "        # Graficamos los resultados de la red\n",
        "        plt.figure(figsize=(10, 10))\n",
        "        plt.axes([0, 0, 1, 1])\n",
        "        plt.imshow(\n",
        "            y_out_2d,\n",
        "            extent=[-0.5, 0.5, -0.5, 0.5],\n",
        "            interpolation='nearest',\n",
        "            cmap=cmap\n",
        "        )\n",
        "        plt.axis(False)\n",
        "        plt.show()"
      ],
      "execution_count": null,
      "outputs": []
    },
    {
      "cell_type": "markdown",
      "metadata": {
        "id": "9NbBdOCcBxIu"
      },
      "source": [
        "Ahora creamos un vector de entrada con valores aleatorios, que utilizaremos para validar el funcionamiento de nuestra red neuronal."
      ]
    },
    {
      "cell_type": "code",
      "metadata": {
        "id": "Qn7CmHvaBxIw"
      },
      "source": [
        "# Definimos los valores de entrada\n",
        "y_in = np.array([0.8, 0.2])"
      ],
      "execution_count": null,
      "outputs": []
    },
    {
      "cell_type": "markdown",
      "metadata": {
        "id": "C8jqhWL2blry"
      },
      "source": [
        "Creamos una instancia de nuestra clase, una red neuronal artificial con la configuración previamente definida (1 capa oculta de 4 neuronas)."
      ]
    },
    {
      "cell_type": "code",
      "metadata": {
        "id": "NGpbPu6zSSFO"
      },
      "source": [
        "nn = nn = NeuralNet()"
      ],
      "execution_count": null,
      "outputs": []
    },
    {
      "cell_type": "markdown",
      "metadata": {
        "id": "o0FYerYYbw_x"
      },
      "source": [
        "Realizamos el proceso _feedforward_ de la red con el valor de entrada."
      ]
    },
    {
      "cell_type": "code",
      "metadata": {
        "id": "oQ5PeIVCb0g_"
      },
      "source": [
        "nn.feedforward(y_in)"
      ],
      "execution_count": null,
      "outputs": []
    },
    {
      "cell_type": "markdown",
      "metadata": {
        "id": "AlcpcBR-BxI6"
      },
      "source": [
        "### **¿Y si profundizamos en el tema?**\n",
        "\n",
        "Aplicamos el producto punto de matrices y agregamos el bias y evaluamos en la función sigmoide."
      ]
    },
    {
      "cell_type": "code",
      "metadata": {
        "id": "dOsvH_zCK0Gq"
      },
      "source": [
        "deep_nn = NeuralNet(n_layers=20, n_neurons=100)"
      ],
      "execution_count": null,
      "outputs": []
    },
    {
      "cell_type": "code",
      "metadata": {
        "id": "_BubDmxPK7gT"
      },
      "source": [
        "deep_nn.feedforward(y_in)"
      ],
      "execution_count": null,
      "outputs": []
    },
    {
      "cell_type": "markdown",
      "metadata": {
        "id": "OCMY2BbrMoLP"
      },
      "source": [
        "### **Visualización**"
      ]
    },
    {
      "cell_type": "markdown",
      "metadata": {
        "id": "libUPp9ccics"
      },
      "source": [
        "Hagamos un pequeño análisis de lo que sucede al visualizar la salida de nuestra red neuronal con una configuración pequeña."
      ]
    },
    {
      "cell_type": "code",
      "metadata": {
        "id": "Q4xQ04VYYd3X"
      },
      "source": [
        "nn.visualize()"
      ],
      "execution_count": null,
      "outputs": []
    },
    {
      "cell_type": "markdown",
      "metadata": {
        "id": "7czmGUWScwOP"
      },
      "source": [
        "En cambio, ¿qué sucede con nuestra red neuronal profunda?"
      ]
    },
    {
      "cell_type": "code",
      "metadata": {
        "id": "chR_4buaYhGZ"
      },
      "source": [
        "deep_nn.visualize()"
      ],
      "execution_count": null,
      "outputs": []
    },
    {
      "cell_type": "code",
      "metadata": {
        "id": "5QVbK3UJlT2w"
      },
      "source": [
        "deep_nn.visualize(grid_size=10)"
      ],
      "execution_count": null,
      "outputs": []
    },
    {
      "cell_type": "markdown",
      "metadata": {
        "id": "Wk1j327Qc65K"
      },
      "source": [
        "¿Esta imagen valida relaciones más profnudas?"
      ]
    },
    {
      "cell_type": "markdown",
      "metadata": {
        "id": "tCnQ2W1qdBXQ"
      },
      "source": [
        "### **Retos**\n",
        "\n",
        "1. Visualización en HD.\n",
        "2. Implementar otras funciones de activación.\n",
        "3. Visualizar capas intermedias.\n",
        "4. Explorar con variaciones de valores en los pesos."
      ]
    },
    {
      "cell_type": "markdown",
      "metadata": {
        "id": "OexocUNId1hG"
      },
      "source": [
        "## **Comentarios extra**\n",
        "\n",
        "- Sobre el aprendizaje\n",
        "- Sobre aplicaciones reales\n",
        "- ¿Algo más?"
      ]
    },
    {
      "cell_type": "code",
      "metadata": {
        "id": "rKsqcQn1fUDV"
      },
      "source": [
        ""
      ],
      "execution_count": null,
      "outputs": []
    }
  ]
}