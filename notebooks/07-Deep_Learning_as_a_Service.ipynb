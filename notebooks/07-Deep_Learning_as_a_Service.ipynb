{
  "nbformat": 4,
  "nbformat_minor": 0,
  "metadata": {
    "colab": {
      "name": "Deep Learning as a Service",
      "provenance": [],
      "collapsed_sections": [],
      "include_colab_link": true
    },
    "kernelspec": {
      "name": "python3",
      "display_name": "Python 3"
    },
    "accelerator": "GPU"
  },
  "cells": [
    {
      "cell_type": "markdown",
      "metadata": {
        "id": "view-in-github",
        "colab_type": "text"
      },
      "source": [
        "<a href=\"https://colab.research.google.com/github/RodolfoFerro/cimps20/blob/main/notebooks/07-Deep_Learning_as_a_Service.ipynb\" target=\"_parent\"><img src=\"https://colab.research.google.com/assets/colab-badge.svg\" alt=\"Open In Colab\"/></a>"
      ]
    },
    {
      "cell_type": "markdown",
      "metadata": {
        "id": "R6jO_1gISKxk"
      },
      "source": [
        "# Deep Learning as a Service\n",
        "\n",
        "> **Rodolfo Ferro** <br>\n",
        "> Google Dev Expert en ML, 2020.\n",
        ">\n",
        "> _Redes:_\n",
        "> - GitHub - [RodolfoFerro](https://github.com/RodolfoFerro)\n",
        "> - Twitter - [@FerroRodolfo](https://twitter.com/FerroRodolfo)\n",
        "> - Instagram - [@rodo_ferro](https://instagram.com/rodo_ferro)\n",
        "\n",
        "## Contenidos\n",
        "\n",
        "#### **Sección VIII**\n",
        "1. **Código:** Integración del modelo de TF al servicio web\n"
      ]
    },
    {
      "cell_type": "markdown",
      "metadata": {
        "id": "xNVG2PnSEtQN"
      },
      "source": [
        "## **Sección VIII**"
      ]
    },
    {
      "cell_type": "markdown",
      "metadata": {
        "id": "1Z7JrTygMDSx"
      },
      "source": [
        "### Integración del modelo de TF al servicio web\n",
        "\n",
        "<center>\n",
        "    <img src=\"https://raw.githubusercontent.com/RodolfoFerro/cimps20/main/media/flask.png\" width=\"50%\">\n",
        "</center>\n",
        "\n",
        "Flask es un microframework web para Python."
      ]
    },
    {
      "cell_type": "code",
      "metadata": {
        "id": "H__MdMLv2Y-G"
      },
      "source": [
        "!pip install -q flask-ngrok"
      ],
      "execution_count": null,
      "outputs": []
    },
    {
      "cell_type": "code",
      "metadata": {
        "id": "jb_pm6s7z4EE"
      },
      "source": [
        "from flask import Flask\n",
        "from flask import jsonify\n",
        "from flask import request\n",
        "from flask_ngrok import run_with_ngrok\n",
        "import tensorflow as tf\n",
        "from PIL import Image\n",
        "import numpy as np\n",
        "\n",
        "import base64\n",
        "import io\n",
        "\n",
        "\n",
        "app = Flask(__name__)\n",
        "run_with_ngrok(app)\n",
        "\n",
        "\n",
        "@app.route(\"/\")\n",
        "def hello_world():\n",
        "    return \"Hello world!\"\n",
        "\n",
        "\n",
        "@app.route(\"/predict\", methods=[\"POST\"])\n",
        "def predict():\n",
        "\n",
        "    # Obtenemos datos de la petición POST\n",
        "    web_info = request.get_json()\n",
        "    img = web_info['base64']\n",
        "\n",
        "    # Decodificamos la imagen y guardamos temporal\n",
        "\n",
        "    # Preparamos la imagen para alimentar la red\n",
        "    img = img[:,:,0]\n",
        "    img = img / 255.\n",
        "    img = np.expand_dims(img, axis=0)\n",
        "    img = np.expand_dims(img, axis=-1)\n",
        "\n",
        "    prediction = None\n",
        "\n",
        "    return \"Prediction here!\"\n",
        "\n",
        "\n",
        "if __name__ == '__main__':\n",
        "    app.run()"
      ],
      "execution_count": null,
      "outputs": []
    },
    {
      "cell_type": "markdown",
      "metadata": {
        "id": "l_aFvJXc7ews"
      },
      "source": [
        "### Funciones auxiliares\n",
        "\n",
        "Carga de modelos con TF."
      ]
    },
    {
      "cell_type": "code",
      "metadata": {
        "id": "QDrL1qVO7m6d"
      },
      "source": [
        "import tensorflow as tf\n",
        "\n",
        "\n",
        "def load_model(model_path):\n",
        "    model = None\n",
        "\n",
        "    return model"
      ],
      "execution_count": null,
      "outputs": []
    },
    {
      "cell_type": "markdown",
      "metadata": {
        "id": "k3ctgIME6gzF"
      },
      "source": [
        "### Codificación y decodificación de imágenes"
      ]
    },
    {
      "cell_type": "code",
      "metadata": {
        "id": "wuPy5oVC2wa3"
      },
      "source": [
        "from PIL import Image\n",
        "\n",
        "import base64\n",
        "import io"
      ],
      "execution_count": null,
      "outputs": []
    },
    {
      "cell_type": "markdown",
      "metadata": {
        "id": "WEVqQJPO8qq4"
      },
      "source": [
        "Antes de consumir el servicio, codificamos la imagen:"
      ]
    },
    {
      "cell_type": "code",
      "metadata": {
        "id": "r3Akvgcc7IMt"
      },
      "source": [
        "image = open(\"11.png\", \"rb\")\n",
        "image_read = image.read()\n",
        "\n",
        "image_64_encode = base64.encodebytes(image_read)\n",
        "img = image_64_encode.decode('utf-8')\n",
        "print(img)"
      ],
      "execution_count": null,
      "outputs": []
    },
    {
      "cell_type": "markdown",
      "metadata": {
        "id": "X_1hYZhO8u82"
      },
      "source": [
        "Antes de responder, decodificamos la imagen y guardamos la imagen de manera temporal (es bueno tenr un respaldo)."
      ]
    },
    {
      "cell_type": "code",
      "metadata": {
        "id": "Peqb3jjk7TUB"
      },
      "source": [
        "# Decodificación de la imagen\n",
        "image_64_decode = base64.decodebytes(img.encode())\n",
        "img = Image.open(io.BytesIO(image_64_decode))\n",
        "img = np.array(img)\n",
        "img.shape"
      ],
      "execution_count": null,
      "outputs": []
    },
    {
      "cell_type": "markdown",
      "metadata": {
        "id": "HCyCSVp0850A"
      },
      "source": [
        "Es bueno verificar la imagen..."
      ]
    },
    {
      "cell_type": "code",
      "metadata": {
        "id": "T_jrQP9J7y4p"
      },
      "source": [
        "import matplotlib.pyplot as plt\n",
        "\n",
        "plt.imshow(img)"
      ],
      "execution_count": null,
      "outputs": []
    }
  ]
}