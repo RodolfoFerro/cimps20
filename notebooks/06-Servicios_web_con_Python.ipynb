{
  "nbformat": 4,
  "nbformat_minor": 0,
  "metadata": {
    "colab": {
      "name": "Servicios web con Python",
      "provenance": [],
      "collapsed_sections": [],
      "toc_visible": true,
      "include_colab_link": true
    },
    "kernelspec": {
      "name": "python3",
      "display_name": "Python 3"
    },
    "accelerator": "GPU"
  },
  "cells": [
    {
      "cell_type": "markdown",
      "metadata": {
        "id": "view-in-github",
        "colab_type": "text"
      },
      "source": [
        "<a href=\"https://colab.research.google.com/github/RodolfoFerro/cimps20/blob/main/notebooks/06-Servicios_web_con_Python.ipynb\" target=\"_parent\"><img src=\"https://colab.research.google.com/assets/colab-badge.svg\" alt=\"Open In Colab\"/></a>"
      ]
    },
    {
      "cell_type": "markdown",
      "metadata": {
        "id": "R6jO_1gISKxk"
      },
      "source": [
        "# Servicios web con Python\n",
        "\n",
        "> **Rodolfo Ferro** <br>\n",
        "> Google Dev Expert en ML, 2020.\n",
        ">\n",
        "> _Redes:_\n",
        "> - GitHub - [RodolfoFerro](https://github.com/RodolfoFerro)\n",
        "> - Twitter - [@FerroRodolfo](https://twitter.com/FerroRodolfo)\n",
        "> - Instagram - [@rodo_ferro](https://instagram.com/rodo_ferro)\n",
        "\n",
        "## Contenidos\n",
        "\n",
        "#### **Sección VII**\n",
        "1. **Código:** Introducción a Flask\n"
      ]
    },
    {
      "cell_type": "markdown",
      "metadata": {
        "id": "xNVG2PnSEtQN"
      },
      "source": [
        "## **Sección VII**"
      ]
    },
    {
      "cell_type": "markdown",
      "metadata": {
        "id": "1Z7JrTygMDSx"
      },
      "source": [
        "### Introducción a Flask\n",
        "\n",
        "<center>\n",
        "    <img src=\"https://raw.githubusercontent.com/RodolfoFerro/cimps20/main/media/flask.png\" width=\"50%\">\n",
        "</center>\n",
        "\n",
        "Flask es un microframework web para Python."
      ]
    },
    {
      "cell_type": "code",
      "metadata": {
        "id": "H__MdMLv2Y-G"
      },
      "source": [
        "!pip install -q flask-ngrok"
      ],
      "execution_count": null,
      "outputs": []
    },
    {
      "cell_type": "code",
      "metadata": {
        "id": "jb_pm6s7z4EE"
      },
      "source": [
        "from flask import Flask\n",
        "from flask_ngrok import run_with_ngrok\n",
        "\n",
        "\n",
        "app = Flask(__name__)\n",
        "run_with_ngrok(app)\n",
        "\n",
        "\n",
        "@app.route(\"/\")\n",
        "def hello_world():\n",
        "    return \"Hello world!\"\n",
        "\n",
        "\n",
        "if __name__ == '__main__':\n",
        "    app.run()"
      ],
      "execution_count": null,
      "outputs": []
    },
    {
      "cell_type": "code",
      "metadata": {
        "id": "wuPy5oVC2wa3"
      },
      "source": [
        ""
      ],
      "execution_count": null,
      "outputs": []
    }
  ]
}