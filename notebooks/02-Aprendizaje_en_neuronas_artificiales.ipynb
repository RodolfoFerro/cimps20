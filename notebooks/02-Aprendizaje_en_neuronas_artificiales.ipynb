{
  "nbformat": 4,
  "nbformat_minor": 0,
  "metadata": {
    "colab": {
      "name": "Aprendizaje en neuronas artificiales",
      "provenance": [],
      "collapsed_sections": [],
      "toc_visible": true,
      "include_colab_link": true
    },
    "kernelspec": {
      "name": "python3",
      "display_name": "Python 3"
    },
    "accelerator": "GPU"
  },
  "cells": [
    {
      "cell_type": "markdown",
      "metadata": {
        "id": "view-in-github",
        "colab_type": "text"
      },
      "source": [
        "<a href=\"https://colab.research.google.com/github/RodolfoFerro/cimps20/blob/main/notebooks/02-Aprendizaje_en_neuronas_artificiales.ipynb\" target=\"_parent\"><img src=\"https://colab.research.google.com/assets/colab-badge.svg\" alt=\"Open In Colab\"/></a>"
      ]
    },
    {
      "cell_type": "markdown",
      "metadata": {
        "id": "R6jO_1gISKxk"
      },
      "source": [
        "# Aprendizaje en neuronas artificiales\n",
        "\n",
        "> **Rodolfo Ferro** <br>\n",
        "> Google Dev Expert en ML, 2020.\n",
        ">\n",
        "> _Redes:_\n",
        "> - GitHub - [RodolfoFerro](https://github.com/RodolfoFerro)\n",
        "> - Twitter - [@FerroRodolfo](https://twitter.com/FerroRodolfo)\n",
        "> - Instagram - [@rodo_ferro](https://instagram.com/rodo_ferro)\n",
        "\n",
        "## Contenidos\n",
        "\n",
        "#### **Sección III**\n",
        "1. **Bases:** Cómo funciona el entrenamiento\n",
        "2. **Código:** Estructura de la neurona\n",
        "3. **Código:** Entrenamiento\n",
        "4. **Código:** Predicción\n"
      ]
    },
    {
      "cell_type": "markdown",
      "metadata": {
        "id": "xNVG2PnSEtQN"
      },
      "source": [
        "## **Sección III**"
      ]
    },
    {
      "cell_type": "markdown",
      "metadata": {
        "id": "tPk1Rkc4FZ5g"
      },
      "source": [
        "### Cómo funciona el entrenamiento\n",
        "\n",
        "A lo largo de este cuaderno exploraremos cómo es que una simple neurona puede ser entrenada para arrojar una predicción.\n",
        "\n",
        "Para este ejemplo programaremos una neurona sigmoide.\n",
        "\n",
        "\n",
        "#### Problema a resolver:\n",
        "\n",
        "Queremos mostrarle a una simple neurona un pequeño conjunto de ejemplos para que pueda aprender cómo se comportan los datos y pueda aprender una función. El conjunto de datos de ejemplo es el siguiente:\n",
        "\n",
        "- `(1, 0)` debe retornar `1`.\n",
        "- `(0, 1)` debe retornar `1`.\n",
        "- `(0, 0)` debe retornar `0`.\n",
        "\n",
        "Así que si le damos como entrada a la neurona el valor `(1, 1)`, debería predecir el valor `1`.\n",
        "\n",
        "##### (¿Qué función lógica es?)\n",
        "\n",
        "> #### What do we need to do?\n",
        "> Program and train a neuron to make predictions.\n",
        ">\n",
        "> Specifically, we are going to do the following:\n",
        "> - Construct the class and its constructor\n",
        "> - Define the Sigmoid function and its derivative\n",
        "> - Define the number of epochs for training\n",
        "> - Solve the problem and predict the value for the desired input"
      ]
    },
    {
      "cell_type": "markdown",
      "metadata": {
        "id": "q33kCpXyFgJ_"
      },
      "source": [
        "### Estructura de la neurona"
      ]
    },
    {
      "cell_type": "code",
      "metadata": {
        "id": "cLBMuek3lBHd"
      },
      "source": [
        "import numpy as np\n",
        "\n",
        "\n",
        "class sigmoid_neuron():\n",
        "    def __init__(self, n):\n",
        "        \"\"\"Constructor of the class.\"\"\"\n",
        "        np.random.seed(123)\n",
        "        self.synaptic_weights = 2 * np.random.random((n, 1)) - 1\n",
        "\n",
        "    def __sigmoid(self, x):\n",
        "        \"\"\"Sigmoid function.\"\"\"\n",
        "        # TODO. 1 / (1 + np.exp(-x))\n",
        "        pass\n",
        "\n",
        "    def __sigmoid_derivative(self, x):\n",
        "        \"\"\"Derivative of the Sigmoid function.\"\"\"\n",
        "        # TODO. x * (1 - x)\n",
        "        pass\n",
        "\n",
        "    def train(self, training_inputs, training_output, iterations):\n",
        "        \"\"\"Training function.\"\"\"\n",
        "        for iteration in range(iterations):\n",
        "            output = self.predict(training_inputs)\n",
        "            error = training_output.reshape((len(training_inputs), 1)) - output\n",
        "            adjustment = np.dot(training_inputs.T, error *\n",
        "                                self.__sigmoid_derivative(output))\n",
        "            self.synaptic_weights += adjustment\n",
        "\n",
        "    def predict(self, inputs):\n",
        "        \"\"\"Prediction function.\"\"\"\n",
        "        return self.__sigmoid(np.dot(inputs, self.synaptic_weights))"
      ],
      "execution_count": null,
      "outputs": []
    },
    {
      "cell_type": "markdown",
      "metadata": {
        "id": "DEr9rSeMGZrB"
      },
      "source": [
        "### Generación de ejemplos\n",
        "\n",
        "Ahora podemos proceder a agregar los ejemplos en una lista, basándonos en la descripción del problema."
      ]
    },
    {
      "cell_type": "code",
      "metadata": {
        "id": "AaKYvTtyGaoX"
      },
      "source": [
        "# Training samples:\n",
        "input_values = []   # TODO. Define the input values as a list of tuples.\n",
        "output_values = []  # TODO. Define the desired outputs.\n",
        "\n",
        "training_inputs = np.array(input_values)\n",
        "training_output = np.array(output_values).T.reshape((3, 1))"
      ],
      "execution_count": null,
      "outputs": []
    },
    {
      "cell_type": "markdown",
      "metadata": {
        "id": "2YEFovbiGogx"
      },
      "source": [
        "### Entrenando la neurona\n",
        "\n",
        "Para ejecutar el entrenamiento, necesitamos instanciar a la neurona. Inicialmente contendrá pesos aleatorios (pues no ha sido entrenada aún):"
      ]
    },
    {
      "cell_type": "code",
      "metadata": {
        "id": "zV63mplVGsm2"
      },
      "source": [
        "# Initialize Sigmoid Neuron:\n",
        "neuron = sigmoid_neuron(2)\n",
        "print(\"Initial random weights:\")\n",
        "neuron.synaptic_weights"
      ],
      "execution_count": null,
      "outputs": []
    },
    {
      "cell_type": "markdown",
      "metadata": {
        "id": "y-Ixx8n2GrXr"
      },
      "source": [
        "Entrenamos la neurona y vemos cómo varían los pesos sinápticos después del entrenamiento:"
      ]
    },
    {
      "cell_type": "code",
      "metadata": {
        "id": "jg85P6GvGvb9"
      },
      "source": [
        "# TODO.\n",
        "# We can modify the number of epochs to see how it performs.\n",
        "epochs = 0\n",
        "\n",
        "# We train the neuron a number of epochs:\n",
        "neuron.train(training_inputs, training_output, epochs)\n",
        "print(\"New synaptic weights after training: \")\n",
        "neuron.synaptic_weights"
      ],
      "execution_count": null,
      "outputs": []
    },
    {
      "cell_type": "markdown",
      "metadata": {
        "id": "CtZLURaLGyGo"
      },
      "source": [
        "### Realizando predicciones"
      ]
    },
    {
      "cell_type": "code",
      "metadata": {
        "id": "67iQRycAG20b"
      },
      "source": [
        "# We predict to verify the performance:\n",
        "one_one = np.array((1, 1))\n",
        "print(\"Prediction for (1, 1): \")\n",
        "neuron.predict(one_one)"
      ],
      "execution_count": null,
      "outputs": []
    },
    {
      "cell_type": "markdown",
      "metadata": {
        "id": "tCnQ2W1qdBXQ"
      },
      "source": [
        "### **Retos**\n",
        "\n",
        "1. Cambiar los datos de ejemplo y la función por replicar.\n",
        "2. Experimentar con otras funciones de activación."
      ]
    },
    {
      "cell_type": "markdown",
      "metadata": {
        "id": "OexocUNId1hG"
      },
      "source": [
        "## **Comentarios extra**\n",
        "\n",
        "- Sobre el aprendizaje en muchas neuronas\n",
        "- Sobre aplicaciones reales\n",
        "- ¿Algo más?"
      ]
    },
    {
      "cell_type": "code",
      "metadata": {
        "id": "rKsqcQn1fUDV"
      },
      "source": [
        ""
      ],
      "execution_count": null,
      "outputs": []
    }
  ]
}